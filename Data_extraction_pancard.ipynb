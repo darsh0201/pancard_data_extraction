{
  "nbformat": 4,
  "nbformat_minor": 0,
  "metadata": {
    "colab": {
      "provenance": [],
      "collapsed_sections": []
    },
    "kernelspec": {
      "name": "python3",
      "display_name": "Python 3"
    },
    "language_info": {
      "name": "python"
    }
  },
  "cells": [
    {
      "cell_type": "markdown",
      "source": [
        "### Importing the files:"
      ],
      "metadata": {
        "id": "Ehz6jpk873JZ"
      }
    },
    {
      "cell_type": "markdown",
      "source": [
        "Run the following code, restart the runtime and re-run the code."
      ],
      "metadata": {
        "id": "icP_U8f7Vf1n"
      }
    },
    {
      "cell_type": "markdown",
      "source": [
        "# Project:"
      ],
      "metadata": {
        "id": "PCmBNTrt7zMF"
      }
    },
    {
      "cell_type": "code",
      "source": [
        "from google.colab import drive\n",
        "drive.mount('/content/drive')"
      ],
      "metadata": {
        "colab": {
          "base_uri": "https://localhost:8080/"
        },
        "id": "irHP88cGRLF2",
        "outputId": "bf67a22a-eccb-4946-9518-9df8c0395b2d"
      },
      "execution_count": null,
      "outputs": [
        {
          "output_type": "stream",
          "name": "stdout",
          "text": [
            "Drive already mounted at /content/drive; to attempt to forcibly remount, call drive.mount(\"/content/drive\", force_remount=True).\n"
          ]
        }
      ]
    },
    {
      "cell_type": "code",
      "source": [
        "# Necessary imports.\n",
        "import numpy as np\n",
        "import cv2\n",
        "from google.colab.patches import cv2_imshow\n",
        "import matplotlib.pyplot as plt\n",
        "from google.colab import drive\n",
        "from pathlib import Path\n",
        "from PIL import Image\n",
        "import os\n",
        "!pip uninstall imgaug && pip uninstall albumentations && pip install git+https://github.com/aleju/imgaug.git\n",
        "!sudo apt install tesseract-ocr\n",
        "!pip install pytesseract\n",
        "import pytesseract\n",
        "from pytesseract import image_to_string\n",
        "import string\n",
        "if not (os.path.isdir('/content/drive/MyDrive/')):\n",
        "  drive.mount('/content/drive')\n",
        "try:\n",
        "  os.mkdir('/content/drive/MyDrive/Project/Output')\n",
        "except:\n",
        "   pass\n",
        "try:\n",
        "  os.mkdir('/content/drive/MyDrive/Project/Output/Images_With_Background')\n",
        "except:\n",
        "   pass\n",
        "try:\n",
        "  os.mkdir('/content/drive/MyDrive/Project/Output/Rotated_Images_With_Background')\n",
        "except:\n",
        "   pass\n",
        "try:\n",
        "  os.mkdir('/content/drive/MyDrive/Project/Output/Greyscaled_Images')\n",
        "except:\n",
        "   pass\n",
        "try:\n",
        "  os.mkdir('/content/drive/MyDrive/Project/Output/Thresholding_Images')\n",
        "except:\n",
        "   pass\n",
        "try:\n",
        "  os.mkdir('/content/drive/MyDrive/Project/Output/Cropped_Images')\n",
        "except:\n",
        "   pass\n",
        "try:\n",
        "  os.mkdir('/content/drive/MyDrive/Project/Output/Sliced_Images')\n",
        "except:\n",
        "   pass"
      ],
      "metadata": {
        "id": "HUsyKGWR8Me7",
        "colab": {
          "base_uri": "https://localhost:8080/"
        },
        "outputId": "13578fe9-9eff-4b50-84b5-33b48ad70d4f"
      },
      "execution_count": null,
      "outputs": [
        {
          "output_type": "stream",
          "name": "stdout",
          "text": [
            "Found existing installation: imgaug 0.4.0\n",
            "Uninstalling imgaug-0.4.0:\n",
            "  Would remove:\n",
            "    /usr/local/lib/python3.7/dist-packages/imgaug-0.4.0.dist-info/*\n",
            "    /usr/local/lib/python3.7/dist-packages/imgaug/*\n",
            "Proceed (y/n)? \u001b[31mERROR: Operation cancelled by user\u001b[0m\n",
            "Reading package lists... Done\n",
            "Building dependency tree       \n",
            "Reading state information... Done\n",
            "tesseract-ocr is already the newest version (4.00~git2288-10f4998a-2).\n",
            "^C\n",
            "Requirement already satisfied: pytesseract in /usr/local/lib/python3.7/dist-packages (0.3.9)\n",
            "Requirement already satisfied: packaging>=21.3 in /usr/local/lib/python3.7/dist-packages (from pytesseract) (21.3)\n",
            "Requirement already satisfied: Pillow>=8.0.0 in /usr/local/lib/python3.7/dist-packages (from pytesseract) (9.1.0)\n",
            "Requirement already satisfied: pyparsing!=3.0.5,>=2.0.2 in /usr/local/lib/python3.7/dist-packages (from packaging>=21.3->pytesseract) (3.0.8)\n"
          ]
        }
      ]
    },
    {
      "cell_type": "markdown",
      "source": [
        "### Adding a background:"
      ],
      "metadata": {
        "id": "LYOSEhAKBkPB"
      }
    },
    {
      "cell_type": "code",
      "source": [
        "def paste_image(path1,path2):\n",
        "  large_img = cv2.imread(path1)\n",
        "  small_img = cv2.imread(path2)\n",
        "  #small_img = cv2.resize(small_img,(580,370)) #To make them look similar.\n",
        "  large_img = cv2.resize(large_img,(small_img.shape[1]*2,small_img.shape[0]*2))\n",
        "  x_offset = round(small_img.shape[1]/2)\n",
        "  y_offset = round(small_img.shape[0]/2)\n",
        "  x_end = x_offset + small_img.shape[1]\n",
        "  y_end = y_offset + small_img.shape[0]\n",
        "  large_img[y_offset:y_end,x_offset:x_end] = small_img\n",
        "  large_img = cv2.resize(large_img,(round(large_img.shape[1]/2),round(large_img.shape[0]/2)))\n",
        "  return large_img\n",
        "def add_background(background):\n",
        "  locationinput='/content/drive/MyDrive/Project/Input/Data/'\n",
        "  locationoutput='/content/drive/MyDrive/Project/Output/Images_With_Background/'\n",
        "  for f in os.listdir(locationinput):\n",
        "      foreground=os.path.join(locationinput,f)\n",
        "      op = paste_image(background,foreground)\n",
        "      backfile = background[background.find('round/')+6:background.find('.')]\n",
        "      #cv2_imshow(op)\n",
        "      cv2.imwrite(locationoutput+backfile+\"_\"+f, op) \n",
        "location='/content/drive/MyDrive/Project/Output/Images_With_Background/'\n",
        "for f in os.listdir(location):\n",
        "  os.remove(os.path.join(location,f))\n",
        "add_background('/content/drive/MyDrive/Project/Input/Background/bedsheet.jpg')\n",
        "add_background('/content/drive/MyDrive/Project/Input/Background/sky.jpg')"
      ],
      "metadata": {
        "id": "98owk7ssBrPR"
      },
      "execution_count": null,
      "outputs": []
    },
    {
      "cell_type": "markdown",
      "source": [
        "###Grey scaling the image:"
      ],
      "metadata": {
        "id": "SuagokgxXfdQ"
      }
    },
    {
      "cell_type": "code",
      "source": [
        "def greyscaleImages():\n",
        "  locationinput='/content/drive/MyDrive/Project/Input/Data/'\n",
        "  locationoutput='/content/drive/MyDrive/Project/Output/Greyscaled_Images/'\n",
        "  for f in os.listdir(locationinput):\n",
        "    img = Image.open(os.path.join(locationinput,f))\n",
        "    #cv2_imshow(img)\n",
        "    img.convert(\"L\").save(locationoutput+'greyscale_'+f)\n",
        "location='/content/drive/MyDrive/Project/Output/Greyscaled_Images/'\n",
        "for f in os.listdir(location):\n",
        "  os.remove(os.path.join(location,f))\n",
        "greyscaleImages()"
      ],
      "metadata": {
        "id": "iTkoe_eVXpC9"
      },
      "execution_count": null,
      "outputs": []
    },
    {
      "cell_type": "markdown",
      "source": [
        "###Thresholding the image:"
      ],
      "metadata": {
        "id": "2V0mnFh3bCu3"
      }
    },
    {
      "cell_type": "code",
      "source": [
        "def thresholdingImages():\n",
        "  locationinput='/content/drive/MyDrive/Project/Output/Greyscaled_Images/'\n",
        "  locationoutput='/content/drive/MyDrive/Project/Output/Thresholding_Images/'\n",
        "  for f in os.listdir(locationinput):\n",
        "    gray = cv2.imread(os.path.join(locationinput,f))\n",
        "    gray = cv2.cvtColor(gray, cv2.COLOR_BGR2GRAY)\n",
        "    retval, thr = cv2.threshold(gray, 90, 255, cv2.THRESH_BINARY)\n",
        "    thr = cv2.resize(thr,(1160,740)) #To make them look similar.\n",
        "    #cv2_imshow(thr)\n",
        "    cv2.imwrite(locationoutput+'threshold'+\"_\"+f,thr)\n",
        "location='/content/drive/MyDrive/Project/Output/Thresholding_Images/'\n",
        "for f in os.listdir(location):\n",
        "  os.remove(os.path.join(location,f))\n",
        "thresholdingImages()"
      ],
      "metadata": {
        "id": "MAEAHLwebIV3"
      },
      "execution_count": null,
      "outputs": []
    },
    {
      "cell_type": "markdown",
      "source": [
        "###Cropping the image:"
      ],
      "metadata": {
        "id": "jo4jB-xpZhb7"
      }
    },
    {
      "cell_type": "code",
      "source": [
        "def croppingImages():\n",
        "  locationinput='/content/drive/MyDrive/Project/Output/Thresholding_Images/'\n",
        "  locationoutput='/content/drive/MyDrive/Project/Output/Cropped_Images/'\n",
        "  for f in os.listdir(locationinput):\n",
        "    img = cv2.imread(os.path.join(locationinput,f))  \n",
        "    x=1\n",
        "    y=round(img.shape[0]*0.235)\n",
        "    y1=img.shape[0]\n",
        "    x1=round(0.7*img.shape[1])\n",
        "    crop_img = img[y:y1, x:x1]\n",
        "    #cv2_imshow(crop_img)\n",
        "    cv2.imwrite(locationoutput+'cropped'+\"_\"+f,crop_img)\n",
        "location='/content/drive/MyDrive/Project/Output/Cropped_Images/'\n",
        "for f in os.listdir(location):\n",
        "  os.remove(os.path.join(location,f))\n",
        "croppingImages()"
      ],
      "metadata": {
        "id": "QTVepWkwZysQ"
      },
      "execution_count": null,
      "outputs": []
    },
    {
      "cell_type": "markdown",
      "source": [
        "###Extracting the number and cropping the image further."
      ],
      "metadata": {
        "id": "Pr4CfcBIh3nU"
      }
    },
    {
      "cell_type": "code",
      "source": [
        "def slicingImages():\n",
        "  locationinput='/content/drive/MyDrive/Project/Output/Cropped_Images/'\n",
        "  locationoutput='/content/drive/MyDrive/Project/Output/Sliced_Images/'\n",
        "  for f in os.listdir(locationinput):\n",
        "    img = cv2.imread(os.path.join(locationinput,f))\n",
        "    x_max=img.shape[1]\n",
        "    y_max=img.shape[0]\n",
        "    ycut=round(0.1*y_max)\n",
        "    ii=1\n",
        "    while ii<y_max-ycut-100:\n",
        "      crop_img = img[ii:ii+ycut, 1:x_max]\n",
        "      ii=ii+10\n",
        "      extract = image_to_string(crop_img)\n",
        "      op=extract.split('\\n')\n",
        "      ctr=1\n",
        "      no=''\n",
        "      for i in extract:\n",
        "        if i=='0' and ctr<=5:\n",
        "          i='O'\n",
        "        if i=='O' and ctr<=10 and ctr>=6:\n",
        "          i='0'\n",
        "        if i in string.ascii_uppercase and ctr<=5:\n",
        "          ctr=ctr+1\n",
        "          no=no+i\n",
        "        elif i in '0123456789' and ctr>=6 and ctr<=10:\n",
        "          ctr=ctr+1\n",
        "          no=no+i\n",
        "        elif i in string.ascii_uppercase and ctr==10:\n",
        "          no=no+i\n",
        "          if ii>=round(y_max/2):\n",
        "            yslice=ii\n",
        "            fin_img = img[1:yslice, 1:round(x_max*0.9)]\n",
        "          else:\n",
        "            yslice=ii+ycut\n",
        "            fin_img = img[yslice:y_max, 1:round(x_max*0.9)]\n",
        "          #cv2_imshow(fin_img)\n",
        "          cv2.imwrite(locationoutput+no+\"_\"+f,fin_img)\n",
        "          ii=y_max\n",
        "          break\n",
        "        else:\n",
        "          ctr=1\n",
        "          no=''\n",
        "location='/content/drive/MyDrive/Project/Output/Sliced_Images/'\n",
        "for f in os.listdir(location):\n",
        "  os.remove(os.path.join(location,f))\n",
        "slicingImages()"
      ],
      "metadata": {
        "id": "IVgpLZ5lhzN0"
      },
      "execution_count": null,
      "outputs": []
    },
    {
      "cell_type": "markdown",
      "source": [
        "###Data extraction:"
      ],
      "metadata": {
        "id": "W74r3Jm34hkx"
      }
    },
    {
      "cell_type": "code",
      "source": [
        "import re\n",
        "def countCaps(st):\n",
        "  count=0\n",
        "  for j in st:\n",
        "    if j in 'ABCDEFGHIJKLMNOPQRSTUVWXYZ':\n",
        "      count=count+1\n",
        "  return count\n",
        "data=[]\n",
        "def dataExtraction():\n",
        "  locationinput='/content/drive/MyDrive/Project/Output/Sliced_Images/'\n",
        "  for f in os.listdir(locationinput):\n",
        "    img = cv2.imread(os.path.join(locationinput,f))\n",
        "    filter = np.array([[-1, -1, -1], [-1, 9, -1], [-1, -1, -1]])\n",
        "    img=cv2.filter2D(img,-1,filter)\n",
        "    extract = image_to_string(img)\n",
        "    op=extract.split('\\n')\n",
        "    #Date\n",
        "    ctr=0\n",
        "    for j in op:\n",
        "      len=0\n",
        "      for i in j:\n",
        "        len=len+1\n",
        "        if i=='/':\n",
        "          ctr=0\n",
        "          ctr=ctr+1 \n",
        "        elif i in '0123456789' and ctr>=1 and ctr<=4:\n",
        "          ctr=ctr+1\n",
        "        else:\n",
        "          ctr=0\n",
        "        if ctr==5:\n",
        "          date=j[0:len]\n",
        "    #Name\n",
        "    opn=[]\n",
        "    for i in op:\n",
        "      if 'Name' in i:\n",
        "        pass\n",
        "      elif 'Birth' in i:\n",
        "        pass\n",
        "      elif '/' in i:\n",
        "        pass\n",
        "      elif re.findall(\"[A-Z]\", i):\n",
        "        opn.append(i)\n",
        "    op=opn\n",
        "    vals=[]\n",
        "    for i in op:\n",
        "      count=0\n",
        "      for j in i:\n",
        "        if j in 'ABCDEFGHIJKLMNOPQRSTUVWXYZ':\n",
        "          count=count+1\n",
        "      vals.append(count)\n",
        "    vals.sort()\n",
        "    names=[]\n",
        "    for i in op:\n",
        "      if 'Name' in i:\n",
        "        pass\n",
        "      elif 'Birth' in i:\n",
        "        pass\n",
        "      elif '/' in i:\n",
        "        pass\n",
        "      elif re.findall(\"[A-Z]\", i) and countCaps(i)>=vals[-2]:\n",
        "        names.append(i)\n",
        "    data.append([f[0:10],date]+names)\n",
        "  print(data)\n",
        "dataExtraction()"
      ],
      "metadata": {
        "colab": {
          "base_uri": "https://localhost:8080/"
        },
        "id": "_BxtLVFR4jxN",
        "outputId": "601b150f-ad9c-419b-aa83-570536219e0b"
      },
      "execution_count": null,
      "outputs": [
        {
          "output_type": "stream",
          "name": "stdout",
          "text": [
            "[['BJQPP5524G', '02/06/1990', 'SANJAY KUMAR PRAJAPAT!', 'DUKHIYA PRASHAD PRAJAPATI'], ['BNZPM2501F', '16/07/1986', '0 MANIKANDAN', 'DURAISAMY'], ['ELWPM8089J', '30/01/1997', 'RARUL MISHRA', 'SATENDRA MISHRA'], ['BLAPT0864M', '1/04/1965', 'TANKNATH', 'MOTIKHAA'], ['BGYPJ0129A', '18/03/1996', 'JALDEEP', 'RAJENDER'], ['BXAPC1000L', '13/09/1996', 'CHUNARA MANISH KANUBHAI', 'KANUBHAI ISHWARBHAI CHUNARA']]\n"
          ]
        }
      ]
    },
    {
      "cell_type": "markdown",
      "source": [
        "###Check:"
      ],
      "metadata": {
        "id": "HzDiFPEGRMfs"
      }
    },
    {
      "cell_type": "code",
      "source": [
        "def drawHoughLines(image, lines, output):\n",
        "    out = image.copy()\n",
        "    for line in lines:\n",
        "        rho, theta = line[0]\n",
        "        a = np.cos(theta)\n",
        "        b = np.sin(theta)\n",
        "        x0 = a * rho\n",
        "        y0 = b * rho\n",
        "        x1 = int(x0 + 10000 * (-b))\n",
        "        y1 = int(y0 + 10000 * (a))\n",
        "        x2 = int(x0 - 10000 * (-b))\n",
        "        y2 = int(y0 - 10000 * (a))\n",
        "        cv2.line(out, (x1, y1), (x2, y2), (0, 255, 0), 2)\n",
        "    cv2.imwrite(output, out)\n",
        "\n",
        "def cyclic_intersection_pts(pts):\n",
        "    \"\"\"\n",
        "    Sorts 4 points in clockwise direction with the first point been closest to 0,0\n",
        "    Assumption:\n",
        "        There are exactly 4 points in the input and\n",
        "        from a rectangle which is not very distorted\n",
        "    \"\"\"\n",
        "    if pts.shape[0] != 4:\n",
        "        return None\n",
        "\n",
        "    # Calculate the center\n",
        "    center = np.mean(pts, axis=0)\n",
        "\n",
        "    # Sort the points in clockwise\n",
        "    cyclic_pts = [\n",
        "        # Top-left\n",
        "        pts[np.where(np.logical_and(pts[:, 0] < center[0], pts[:, 1] < center[1]))[0][0], :],\n",
        "        # Top-right\n",
        "        pts[np.where(np.logical_and(pts[:, 0] > center[0], pts[:, 1] < center[1]))[0][0], :],\n",
        "        # Bottom-Right\n",
        "        pts[np.where(np.logical_and(pts[:, 0] > center[0], pts[:, 1] > center[1]))[0][0], :],\n",
        "        # Bottom-Left\n",
        "        pts[np.where(np.logical_and(pts[:, 0] < center[0], pts[:, 1] > center[1]))[0][0], :]\n",
        "    ]\n",
        "\n",
        "    return np.array(cyclic_pts)\n",
        "\n",
        "# Read input\n",
        "color = cv2.imread('/content/drive/MyDrive/Project/bedsheet_img_6.jpg', cv2.IMREAD_COLOR)\n",
        "color = cv2.resize(color, (0, 0), fx=0.15, fy=0.15)\n",
        "# RGB to gray\n",
        "gray = cv2.cvtColor(color, cv2.COLOR_BGR2GRAY)\n",
        "#cv2.imwrite('output/gray.png', gray)\n",
        "# cv2.imwrite('output/thresh.png', thresh)\n",
        "# Edge detection\n",
        "edges = cv2.Canny(gray, 100, 200, apertureSize=3)\n",
        "# Save the edge detected image\n",
        "#cv2.imwrite('output/edges.png', edges)\n",
        "cv2_imshow(edges)\n"
      ],
      "metadata": {
        "id": "yjUkLp_nfglb",
        "colab": {
          "base_uri": "https://localhost:8080/",
          "height": 234
        },
        "outputId": "a14dd771-f123-468a-dffe-debf61790c76"
      },
      "execution_count": null,
      "outputs": [
        {
          "output_type": "error",
          "ename": "error",
          "evalue": "ignored",
          "traceback": [
            "\u001b[0;31m---------------------------------------------------------------------------\u001b[0m",
            "\u001b[0;31merror\u001b[0m                                     Traceback (most recent call last)",
            "\u001b[0;32m<ipython-input-8-cee92a6cc91e>\u001b[0m in \u001b[0;36m<module>\u001b[0;34m()\u001b[0m\n\u001b[1;32m     43\u001b[0m \u001b[0;31m# Read input\u001b[0m\u001b[0;34m\u001b[0m\u001b[0;34m\u001b[0m\u001b[0;34m\u001b[0m\u001b[0m\n\u001b[1;32m     44\u001b[0m \u001b[0mcolor\u001b[0m \u001b[0;34m=\u001b[0m \u001b[0mcv2\u001b[0m\u001b[0;34m.\u001b[0m\u001b[0mimread\u001b[0m\u001b[0;34m(\u001b[0m\u001b[0;34m'/content/drive/MyDrive/Project/bedsheet_img_6.jpg'\u001b[0m\u001b[0;34m,\u001b[0m \u001b[0mcv2\u001b[0m\u001b[0;34m.\u001b[0m\u001b[0mIMREAD_COLOR\u001b[0m\u001b[0;34m)\u001b[0m\u001b[0;34m\u001b[0m\u001b[0;34m\u001b[0m\u001b[0m\n\u001b[0;32m---> 45\u001b[0;31m \u001b[0mcolor\u001b[0m \u001b[0;34m=\u001b[0m \u001b[0mcv2\u001b[0m\u001b[0;34m.\u001b[0m\u001b[0mresize\u001b[0m\u001b[0;34m(\u001b[0m\u001b[0mcolor\u001b[0m\u001b[0;34m,\u001b[0m \u001b[0;34m(\u001b[0m\u001b[0;36m0\u001b[0m\u001b[0;34m,\u001b[0m \u001b[0;36m0\u001b[0m\u001b[0;34m)\u001b[0m\u001b[0;34m,\u001b[0m \u001b[0mfx\u001b[0m\u001b[0;34m=\u001b[0m\u001b[0;36m0.15\u001b[0m\u001b[0;34m,\u001b[0m \u001b[0mfy\u001b[0m\u001b[0;34m=\u001b[0m\u001b[0;36m0.15\u001b[0m\u001b[0;34m)\u001b[0m\u001b[0;34m\u001b[0m\u001b[0;34m\u001b[0m\u001b[0m\n\u001b[0m\u001b[1;32m     46\u001b[0m \u001b[0;31m# RGB to gray\u001b[0m\u001b[0;34m\u001b[0m\u001b[0;34m\u001b[0m\u001b[0;34m\u001b[0m\u001b[0m\n\u001b[1;32m     47\u001b[0m \u001b[0mgray\u001b[0m \u001b[0;34m=\u001b[0m \u001b[0mcv2\u001b[0m\u001b[0;34m.\u001b[0m\u001b[0mcvtColor\u001b[0m\u001b[0;34m(\u001b[0m\u001b[0mcolor\u001b[0m\u001b[0;34m,\u001b[0m \u001b[0mcv2\u001b[0m\u001b[0;34m.\u001b[0m\u001b[0mCOLOR_BGR2GRAY\u001b[0m\u001b[0;34m)\u001b[0m\u001b[0;34m\u001b[0m\u001b[0;34m\u001b[0m\u001b[0m\n",
            "\u001b[0;31merror\u001b[0m: OpenCV(4.1.2) /io/opencv/modules/imgproc/src/resize.cpp:3720: error: (-215:Assertion failed) !ssize.empty() in function 'resize'\n"
          ]
        }
      ]
    },
    {
      "cell_type": "code",
      "source": [
        "# Detect lines using hough transform\n",
        "polar_lines = cv2.HoughLines(edges, 1, np.pi / 180, 150)\n",
        "drawHoughLines(color, polar_lines, 'output/houghlines.png')\n",
        "# Detect the intersection points\n",
        "intersect_pts = lq.hough_lines_intersection(polar_lines, gray.shape)\n",
        "# Sort the points in cyclic order\n",
        "intersect_pts = cyclic_intersection_pts(intersect_pts)\n",
        "# Draw intersection points and save\n",
        "out = color.copy()\n",
        "for pts in intersect_pts:\n",
        "    cv2.rectangle(out, (pts[0] - 1, pts[1] - 1), (pts[0] + 1, pts[1] + 1), (0, 0, 255), 2)\n",
        "cv2.imwrite('output/intersect_points.png', out)\n",
        "\n",
        "# Find contours\n",
        "contours, hierarchy = cv2.findContours(edges, cv2.RETR_EXTERNAL, cv2.CHAIN_APPROX_SIMPLE)\n",
        "# Fit a rotated rect\n",
        "rotatedRect = cv2.minAreaRect(contours[0])\n",
        "# Get rotated rect dimensions\n",
        "(x, y), (width, height), angle = rotatedRect\n",
        "# Get the 4 corners of the rotated rect\n",
        "rotatedRectPts = cv2.boxPoints(rotatedRect)\n",
        "rotatedRectPts = np.int0(rotatedRectPts)\n",
        "# Draw the rotated rect on the image\n",
        "out = color.copy()\n",
        "cv2.drawContours(out, [rotatedRectPts], 0, (0, 255, 0), 2)\n",
        "cv2.imwrite('output/minRect.png', out)\n",
        "\n",
        "\n",
        "# List the output points in the same order as input\n",
        "# Top-left, top-right, bottom-right, bottom-left\n",
        "dstPts = [[0, 0], [width, 0], [width, height], [0, height]]\n",
        "# Get the transform\n",
        "m = cv2.getPerspectiveTransform(np.float32(intersect_pts), np.float32(dstPts))\n",
        "# Transform the image\n",
        "out = cv2.warpPerspective(color, m, (int(width), int(height)))\n",
        "# Save the output\n",
        "cv2.imwrite('output/page.png', out)"
      ],
      "metadata": {
        "id": "QOrcyVYFfixs"
      },
      "execution_count": null,
      "outputs": []
    },
    {
      "cell_type": "markdown",
      "source": [
        "# Rotating Images"
      ],
      "metadata": {
        "id": "G1Ufkq5rezUk"
      }
    },
    {
      "cell_type": "code",
      "source": [
        "n=1\n",
        "# get the path/directory\n",
        "folder_dir = '/content/drive/MyDrive/Project/Initial_Images'\n",
        "\n",
        "# iterate over files in\n",
        "# that directory\n",
        "images = Path(folder_dir).glob('*.png')\n",
        "for image in images:\n",
        "    colorImage  = Image.open(image)\n",
        "\n",
        "    # Rotate it by 45 degrees\n",
        "    rotated     = colorImage.rotate(5, expand = True)\n",
        "\n",
        "    # Rotate it by 90 degrees\n",
        "    transposed  = colorImage.transpose(Image.ROTATE_90)\n",
        "\n",
        "    # Display the Original Image\n",
        "    colorImage.show()\n",
        "\n",
        "    # Display the Image rotated by 45 degrees\n",
        "    rotated.show()\n",
        "    rotated.save('/content/drive/MyDrive/Project/All_img/rotated'+str(n)+'.png')\n",
        "    \n",
        "\n",
        "    # Display the Image rotated by 90 degrees\n",
        "    transposed.show()\n",
        "    transposed.save('/content/drive/MyDrive/Project/All_img/updated'+str(n)+'.png')\n",
        "    n=n+1\n"
      ],
      "metadata": {
        "id": "Q8_jPYCFeyxs"
      },
      "execution_count": null,
      "outputs": []
    }
  ]
}